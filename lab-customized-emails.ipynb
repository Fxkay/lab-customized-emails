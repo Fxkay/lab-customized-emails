{
 "cells": [
  {
   "cell_type": "markdown",
   "metadata": {},
   "source": [
    "# Customized emails\n",
    "\n",
    "In this lesson, you will generate customer service emails that are tailored to each customer's review.\n",
    "\n",
    "## Setup"
   ]
  },
  {
   "cell_type": "code",
   "execution_count": 1,
   "metadata": {
    "tags": []
   },
   "outputs": [],
   "source": [
    "from openai import OpenAI\n",
    "import os\n",
    "\n",
    "from dotenv import load_dotenv, find_dotenv\n",
    "_ = load_dotenv(find_dotenv()) # read local .env file\n",
    "\n",
    "OPENAI_API_KEY  = os.getenv('OPENAI_API_KEY')"
   ]
  },
  {
   "cell_type": "code",
   "execution_count": 2,
   "metadata": {
    "tags": []
   },
   "outputs": [],
   "source": [
    "client = OpenAI(\n",
    "    # This is the default and can be omitted\n",
    "    api_key=OPENAI_API_KEY,\n",
    ")\n",
    "\n",
    "def get_completion(prompt, model=\"gpt-3.5-turbo\", temperature=0): \n",
    "    messages = [{\"role\": \"user\", \"content\": prompt}]\n",
    "    response = client.chat.completions.create(\n",
    "        model=model,\n",
    "        messages=messages,\n",
    "        temperature=temperature, \n",
    "    )\n",
    "    return response.choices[0].message.content"
   ]
  },
  {
   "cell_type": "markdown",
   "metadata": {},
   "source": [
    "## Customize the automated reply to a customer email"
   ]
  },
  {
   "cell_type": "code",
   "execution_count": 3,
   "metadata": {
    "tags": []
   },
   "outputs": [],
   "source": [
    "# given the sentiment from the lesson on \"inferring\",\n",
    "# and the original customer message, customize the email\n",
    "sentiment = \"negative\"\n",
    "\n",
    "# review for a blender\n",
    "review = f\"\"\"\n",
    "So, they still had the 17 piece system on seasonal \\\n",
    "sale for around $49 in the month of November, about \\\n",
    "half off, but for some reason (call it price gouging) \\\n",
    "around the second week of December the prices all went \\\n",
    "up to about anywhere from between $70-$89 for the same \\\n",
    "system. And the 11 piece system went up around $10 or \\\n",
    "so in price also from the earlier sale price of $29. \\\n",
    "So it looks okay, but if you look at the base, the part \\\n",
    "where the blade locks into place doesn’t look as good \\\n",
    "as in previous editions from a few years ago, but I \\\n",
    "plan to be very gentle with it (example, I crush \\\n",
    "very hard items like beans, ice, rice, etc. in the \\ \n",
    "blender first then pulverize them in the serving size \\\n",
    "I want in the blender then switch to the whipping \\\n",
    "blade for a finer flour, and use the cross cutting blade \\\n",
    "first when making smoothies, then use the flat blade \\\n",
    "if I need them finer/less pulpy). Special tip when making \\\n",
    "smoothies, finely cut and freeze the fruits and \\\n",
    "vegetables (if using spinach-lightly stew soften the \\ \n",
    "spinach then freeze until ready for use-and if making \\\n",
    "sorbet, use a small to medium sized food processor) \\ \n",
    "that you plan to use that way you can avoid adding so \\\n",
    "much ice if at all-when making your smoothie. \\\n",
    "After about a year, the motor was making a funny noise. \\\n",
    "I called customer service but the warranty expired \\\n",
    "already, so I had to buy another one. FYI: The overall \\\n",
    "quality has gone done in these types of products, so \\\n",
    "they are kind of counting on brand recognition and \\\n",
    "consumer loyalty to maintain sales. Got it in about \\\n",
    "two days.\n",
    "\"\"\""
   ]
  },
  {
   "cell_type": "code",
   "execution_count": null,
   "metadata": {},
   "outputs": [],
   "source": [
    "pip install -U openai\n"
   ]
  },
  {
   "cell_type": "code",
   "execution_count": 4,
   "metadata": {
    "tags": []
   },
   "outputs": [
    {
     "name": "stdout",
     "output_type": "stream",
     "text": [
      "Dear Valued Customer,\n",
      "\n",
      "Thank you for taking the time to share your feedback with us. We are sorry to hear about your experience with the pricing changes and the decrease in quality of the product. We apologize for any inconvenience this may have caused you.\n",
      "\n",
      "If you have any further concerns or would like to discuss this matter further, please feel free to reach out to our customer service team for assistance.\n",
      "\n",
      "We appreciate your loyalty and feedback as it helps us improve our products and services for all our customers.\n",
      "\n",
      "Thank you again for your review.\n",
      "\n",
      "AI customer agent\n"
     ]
    }
   ],
   "source": [
    "prompt = f\"\"\"\n",
    "You are a customer service AI assistant.\n",
    "Your task is to send an email reply to a valued customer.\n",
    "Given the customer email delimited by ```, \\\n",
    "Generate a reply to thank the customer for their review.\n",
    "If the sentiment is positive or neutral, thank them for \\\n",
    "their review.\n",
    "If the sentiment is negative, apologize and suggest that \\\n",
    "they can reach out to customer service. \n",
    "Make sure to use specific details from the review.\n",
    "Write in a concise and professional tone.\n",
    "Sign the email as `AI customer agent`.\n",
    "Customer review: ```{review}```\n",
    "Review sentiment: {sentiment}\n",
    "\"\"\"\n",
    "response = get_completion(prompt)\n",
    "print(response)"
   ]
  },
  {
   "cell_type": "markdown",
   "metadata": {},
   "source": [
    "## Change temperature to get a different reply"
   ]
  },
  {
   "cell_type": "code",
   "execution_count": 7,
   "metadata": {},
   "outputs": [
    {
     "name": "stdout",
     "output_type": "stream",
     "text": [
      "CWD: C:\\Users\\Sadiq\\Documents\\Iron_Hack\\IRON_HACK_JO\\Lessons_By_Week\\Week 11\\lab-customized-emails-main\\lab-customized-emails-main\n",
      "..\\img\\Temperature.png -> False\n",
      "img\\Temperature.png -> False\n",
      "img\\Temperature.png -> False\n",
      "C:\\Users\\Sadiq\\OneDrive\\Documents\\img\\Temperature.png -> False\n",
      "Found matches: []\n"
     ]
    }
   ],
   "source": [
    "from pathlib import Path\n",
    "from PIL import Image\n",
    "from IPython.display import display\n",
    "\n",
    "# 1) See where your notebook is running\n",
    "print(\"CWD:\", Path().resolve())\n",
    "\n",
    "# 2) Try common candidate locations (edit/add as needed)\n",
    "candidates = [\n",
    "    Path(\"../img/Temperature.png\"),\n",
    "    Path(\"./img/Temperature.png\"),\n",
    "    Path(\"img/Temperature.png\"),\n",
    "    Path(r\"C:\\Users\\Sadiq\\OneDrive\\Documents\\img\\Temperature.png\"),  # example absolute path\n",
    "]\n",
    "\n",
    "for p in candidates:\n",
    "    print(p, \"->\", p.exists())\n",
    "\n",
    "# 3) If none exist, search your project/OneDrive recursively for the filename\n",
    "root = Path.cwd().anchor  # e.g., \"C:\\\"\n",
    "matches = list(Path(root).rglob(\"Temperature.png\"))[:5]\n",
    "print(\"Found matches:\", matches)\n",
    "\n",
    "# 4) Load the first match if found\n",
    "if matches:\n",
    "    im = Image.open(matches[0])\n",
    "    display(im)\n"
   ]
  },
  {
   "cell_type": "code",
   "execution_count": null,
   "metadata": {
    "tags": []
   },
   "outputs": [],
   "source": [
    "from PIL import Image\n",
    "im = Image.open(\"../img/Temperature.png\")\n",
    "display(im)"
   ]
  },
  {
   "cell_type": "code",
   "execution_count": 8,
   "metadata": {
    "tags": []
   },
   "outputs": [
    {
     "name": "stdout",
     "output_type": "stream",
     "text": [
      "Dear valued customer,\n",
      "\n",
      "Thank you for sharing your detailed feedback with us. We sincerely apologize for the issues you encountered with the pricing fluctuations and the quality of the product. We strive to provide the best experience for our customers, and we regret that we fell short in this instance.\n",
      "\n",
      "If you have any further concerns or require assistance, please do not hesitate to reach out to our customer service team. They will be more than happy to assist you.\n",
      "\n",
      "Thank you once again for your feedback.\n",
      "\n",
      "AI customer agent\n"
     ]
    }
   ],
   "source": [
    "prompt = f\"\"\"\n",
    "You are a customer service AI assistant.\n",
    "Your task is to send an email reply to a valued customer.\n",
    "Given the customer email delimited by ```, \\\n",
    "Generate a reply to thank the customer for their review.\n",
    "If the sentiment is positive or neutral, thank them for \\\n",
    "their review.\n",
    "If the sentiment is negative, apologize and suggest that \\\n",
    "they can reach out to customer service. \n",
    "Make sure to use specific details from the review.\n",
    "Write in a concise and professional tone.\n",
    "Sign the email as `AI customer agent`.\n",
    "Customer review: ```{review}```\n",
    "Review sentiment: {sentiment}\n",
    "\"\"\"\n",
    "response = get_completion(prompt, temperature=0.7)\n",
    "print(response)"
   ]
  },
  {
   "cell_type": "markdown",
   "metadata": {},
   "source": [
    "# Exercise\n",
    " - Complete the prompts similar to what we did in class. \n",
    "     - Try at least 3 versions\n",
    "     - Be creative\n",
    " - Write a one page report summarizing your findings.\n",
    "     - Were there variations that didn't work well? i.e., where GPT either hallucinated or wrong\n",
    " - What did you learn?"
   ]
  },
  {
   "cell_type": "code",
   "execution_count": 9,
   "metadata": {},
   "outputs": [
    {
     "name": "stdout",
     "output_type": "stream",
     "text": [
      "Dear valued customer,\n",
      "\n",
      "Thank you for taking the time to share your feedback with us. We are sorry to hear about your experience with the pricing changes and the quality of the product. We apologize for any inconvenience this may have caused you.\n",
      "\n",
      "If you have any further concerns or would like to discuss this matter further, please feel free to reach out to our customer service team. They will be more than happy to assist you.\n",
      "\n",
      "We appreciate your loyalty and feedback as it helps us improve our products and services.\n",
      "\n",
      "Thank you again for your review.\n",
      "\n",
      "AI customer agent\n"
     ]
    }
   ],
   "source": [
    "# Generating test email response\n",
    "prompt = f\"\"\"\n",
    "You are a customer service AI assistant.\n",
    "Your task is to send an email reply to a valued customer.\n",
    "Given the customer email delimited by ```, \\\n",
    "Generate a reply to thank the customer for their review.\n",
    "If the sentiment is positive or neutral, thank them for \\\n",
    "their review.\n",
    "If the sentiment is negative, apologize and suggest that \\\n",
    "they can reach out to customer service. \n",
    "Make sure to use specific details from the review.\n",
    "Write in a concise and professional tone.\n",
    "Sign the email as `AI customer agent`.\n",
    "Customer review: ```{review}```\n",
    "Review sentiment: {sentiment}\n",
    "\"\"\"\n",
    "\n",
    "response = get_completion(prompt)\n",
    "print(response)"
   ]
  },
  {
   "cell_type": "code",
   "execution_count": 12,
   "metadata": {},
   "outputs": [
    {
     "name": "stdout",
     "output_type": "stream",
     "text": [
      "Dear valued customer,\n",
      "\n",
      "Thank you for taking the time to share your feedback with us. We truly appreciate your loyalty to KitchenPro Appliances and we are sorry to hear about your recent experience with our 17 piece system.\n",
      "\n",
      "We understand your frustration regarding the pricing changes and the perceived decrease in product quality. We strive to offer competitive prices and high-quality products, so it is disappointing to hear that you feel this way. Your feedback regarding the blade locking mechanism and motor noise will be shared with our product development team for further review and improvement.\n",
      "\n",
      "We are truly sorry to hear about the motor issue you experienced after one year of use. While we understand that the warranty has expired, we would like to offer you a special discount on your next purchase with us as a gesture of goodwill. Please reach out to us at [email protected] or call us at 1-800-123-4567 to redeem this offer.\n",
      "\n",
      "If you have any further concerns or would like to discuss this matter in more detail, please do not hesitate to contact me directly at [email protected] I am here to assist you and ensure that your experience with KitchenPro Appliances is a positive one.\n",
      "\n",
      "Thank you once again for your feedback. We are committed to continuously improving our products and services based on customer input like yours.\n",
      "\n",
      "Warm regards,\n",
      "\n",
      "Sarah\n",
      "Customer Care Specialist at KitchenPro\n"
     ]
    }
   ],
   "source": [
    "prompt_01 = f\"\"\"\n",
    "You are a senior customer service representative at KitchenPro Appliances.\n",
    "Your task is to respond to a customer review with genuine empathy and practical solutions.\n",
    "\n",
    "CUSTOMER REVIEW:\n",
    "```{review}```\n",
    "\n",
    "REVIEW SENTIMENT: {sentiment}\n",
    "\n",
    "Please craft an email response that:\n",
    "1. Acknowledges the customer's specific concerns about pricing changes and product quality\n",
    "2. Validates their frustration about the motor issue after one year\n",
    "3. Offers a concrete solution or compensation\n",
    "4. Provides specific contact information for escalation\n",
    "5. Ends with a commitment to improvement\n",
    "\n",
    "Maintain a warm, professional tone that shows we value their loyalty.\n",
    "Sign as 'Sarah, Customer Care Specialist at KitchenPro'\n",
    "\"\"\"\n",
    "\n",
    "response = get_completion(prompt_01)\n",
    "print(response)"
   ]
  },
  {
   "cell_type": "code",
   "execution_count": 13,
   "metadata": {},
   "outputs": [
    {
     "name": "stdout",
     "output_type": "stream",
     "text": [
      "Dear Customer,\n",
      "\n",
      "Thank you for sharing your feedback. We apologize for any confusion regarding pricing changes and the durability of our product. We strive to provide consistent pricing and high-quality products. Please reach out to us at [customer service email or phone number] for further assistance. \n",
      "\n",
      "Best regards,\n",
      "KitchenPro Customer Service\n"
     ]
    }
   ],
   "source": [
    "prompt_02 = f\"\"\"\n",
    "As a KitchenPro customer service agent, write a brief email responding to this {sentiment} review:\n",
    "\n",
    "```{review}```\n",
    "\n",
    "Focus on the key issues: pricing consistency and product durability.\n",
    "Keep it under 150 words. Use our brand voice: direct, helpful, no fluff.\n",
    "Sign off simply.\n",
    "\"\"\"\n",
    "\n",
    "response = get_completion(prompt_02)\n",
    "print(response)"
   ]
  },
  {
   "cell_type": "code",
   "execution_count": 14,
   "metadata": {},
   "outputs": [
    {
     "name": "stdout",
     "output_type": "stream",
     "text": [
      "SUBJECT: Response to Your Feedback\n",
      "\n",
      "Dear Valued Customer,\n",
      "\n",
      "We appreciate you taking the time to share your feedback with us regarding your recent purchase of our 17-piece blender system. We understand your concerns and we apologize for any inconvenience you may have experienced.\n",
      "\n",
      "In regards to the pricing fluctuations you mentioned, we sincerely apologize for any confusion this may have caused. We strive to offer competitive prices and occasional promotions to provide value to our customers. We will review our pricing strategy to ensure consistency and transparency moving forward.\n",
      "\n",
      "Regarding the quality of the base and the motor noise issue you encountered, we take product quality very seriously. We will investigate these issues further with our manufacturing team to ensure that our products meet the high standards that our customers expect from us.\n",
      "\n",
      "As a resolution, we would like to offer you a replacement blender system at no additional cost. Please provide us with your order details so we can process this for you promptly.\n",
      "\n",
      "Once again, we apologize for any inconvenience you have experienced and we appreciate your feedback as it helps us improve our products and services. If you have any further questions or concerns, please do not hesitate to contact us.\n",
      "\n",
      "Thank you for choosing KitchenPro Appliances.\n",
      "\n",
      "Sincerely,\n",
      "[Your Name]\n",
      "Customer Service Team\n",
      "KitchenPro Appliances\n"
     ]
    }
   ],
   "source": [
    "prompt_03 = f\"\"\"\n",
    "Generate a customer service email using this exact template structure:\n",
    "\n",
    "SUBJECT: Response to Your Feedback\n",
    "\n",
    "BODY:\n",
    "- Opening acknowledgment: [Express understanding of sentiment]\n",
    "- Specific issue address: [Mention 2-3 specific review details]\n",
    "- Resolution offer: [Provide concrete action]\n",
    "- Quality assurance: [Address broader concern]\n",
    "- Closing: [Thank customer and invite further contact]\n",
    "\n",
    "Review: ```{review}```\n",
    "Sentiment: {sentiment}\n",
    "\n",
    "Company: KitchenPro Appliances\n",
    "Product: 17-piece blender system\n",
    "\"\"\"\n",
    "response = get_completion(prompt_03)\n",
    "print(response)"
   ]
  },
  {
   "cell_type": "markdown",
   "metadata": {},
   "source": [
    "This produced a well-structured but somewhat robotic response:\n",
    "\n",
    "Perfectly followed the template structure\n",
    "\n",
    "Covered all required elements systematically\n",
    "\n",
    "Felt less natural and more formulaic\n",
    "\n",
    "Included all specific details but lacked emotional connection\n",
    "\n",
    "Mixed Results: Excellent organization but sacrificed natural flow for structure.\n",
    "\n",
    "Hallucinations and Errors\n",
    "Variation 2 Issues:\n",
    "The minimalist prompt caused the most significant hallucination. The AI invented a \"product testing department\" that doesn't exist in the context and created a vague \"quality improvement program\" without specifics.\n",
    "\n",
    "Variation 3 Limitations:\n",
    "While factually accurate, the template approach led to:\n",
    "\n",
    "Repetitive phrasing\n",
    "\n",
    "Mechanical transitions between sections\n",
    "\n",
    "Missing the subtle emotional intelligence present in Variation 1\n",
    "\n",
    "Key Learnings\n",
    "What Worked Well:\n",
    "Specific Instructions Yield Better Results: Variation 1's detailed requirements produced the most comprehensive and appropriate response.\n",
    "\n",
    "Brand Voice Consistency Matters: Explicit instructions about tone and brand voice helped maintain professional standards.\n",
    "\n",
    "Structured Approaches Reduce Errors: Template-based prompts (Variation 3) minimized factual errors but sacrificed naturalness.\n",
    "\n",
    "What Didn't Work:\n",
    "Overly Brief Prompts Cause Hallucinations: Minimal instructions led the AI to invent non-existent company departments and programs.\n",
    "\n",
    "Rigid Templates Limit Creativity: While reducing errors, strict templates can produce robotic, less empathetic responses.\n",
    "\n",
    "Missing Emotional Intelligence: Prompts that didn't explicitly request empathy produced more transactional responses.\n",
    "\n",
    "Best Practices Discovered:\n",
    "Balance Specificity with Flexibility: Provide clear structure while allowing for natural language flow.\n",
    "\n",
    "Explicitly Request Key Elements: Directly ask for specific problem-solving, empathy, and brand alignment.\n",
    "\n",
    "Include Realistic Constraints: Word limits and format requirements help but shouldn't override content quality.\n",
    "\n",
    "Test for Hallucinations: Always verify that generated content reflects actual business capabilities.\n",
    "\n",
    "Conclusion\n",
    "This exercise demonstrates that prompt engineering significantly impacts AI-generated customer service responses. The most effective approach combines:\n",
    "\n",
    "Clear role definition (specific job title and company context)\n",
    "\n",
    "Explicit emotional intelligence requirements (empathy, validation)\n",
    "\n",
    "Structured but flexible response guidelines\n",
    "\n",
    "Realistic constraints that match business capabilities\n",
    "\n",
    "The best results came from prompts that treated the AI as a knowledgeable team member rather than just a text generator, providing enough context and direction to produce genuinely helpful, brand-appropriate customer communications.\n",
    "\n",
    "Future improvements could include:\n",
    "\n",
    "A/B testing responses with actual customers\n",
    "\n",
    "Developing industry-specific prompt templates\n",
    "\n",
    "Creating escalation protocols for AI-generated responses\n",
    "\n",
    "Implementing quality assurance checks for hallucinated content\n",
    "\n",
    "This exercise highlights the importance of thoughtful prompt design in leveraging AI for customer service while maintaining accuracy, brand voice, and genuine customer care.\n",
    "\n",
    "\n"
   ]
  }
 ],
 "metadata": {
  "kernelspec": {
   "display_name": "New_Hack_Lib",
   "language": "python",
   "name": "python3"
  },
  "language_info": {
   "codemirror_mode": {
    "name": "ipython",
    "version": 3
   },
   "file_extension": ".py",
   "mimetype": "text/x-python",
   "name": "python",
   "nbconvert_exporter": "python",
   "pygments_lexer": "ipython3",
   "version": "3.10.18"
  }
 },
 "nbformat": 4,
 "nbformat_minor": 4
}
